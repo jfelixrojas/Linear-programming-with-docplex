{
 "cells": [
  {
   "cell_type": "markdown",
   "metadata": {},
   "source": [
    "## Red de distribución energética\n"
   ]
  },
  {
   "cell_type": "markdown",
   "metadata": {},
   "source": [
    "a. Defina el modelo lineal con notación matemática, escríbalo con fórmulas matemáticas en su trabajo."
   ]
  },
  {
   "cell_type": "markdown",
   "metadata": {},
   "source": [
    "Este es un problema de distribución con intermediarios, donde el origen está dado por las plantas, desigandas por Guatapé (1), Porce (2), Rio Grande (3), Piedas blancas (4); por otro lado, tres son los nodos intermediarios los cuales son las subestaciones designadas por Niquía, San Rafael y una externa y el punto de llegada o destino dados por:  Cali (1), Bogotá (2), Medellín (3), Barranquilla (4), \n",
    "\n",
    "\n",
    "| Destino | Codigo  | Requerimientos |\n",
    "| --- | --- | --- |\n",
    "| Cali | (1) | 90 |\n",
    "| Bogota | (2) | 150 |\n",
    "| Medellin| (3) | 110 |\n",
    "| Barranquilla | (4) | 70 |\n",
    "\n",
    "\n",
    "Y cada origen o planta entrega:\n",
    "\n",
    "| Planta  | Entrega |\n",
    "| --- | --- |\n",
    "| Guatapé  | 150 |\n",
    "| Porce  | 115 |\n",
    "| Rio grande | 110 |\n",
    "| Piedas blancas  | 65 |\n",
    "\n",
    "\n",
    "Y cada nodo intermediario tiene una capacidad de transporte:\n",
    "\n",
    "| Intermedio   | Entrega |\n",
    "| --- | --- |\n",
    "| Niquía  | 250 |\n",
    "| San Rafael | 120 |\n",
    "| Externa | $\\inf$ |\n"
   ]
  },
  {
   "cell_type": "markdown",
   "metadata": {},
   "source": [
    "Sea $X_{ij}$ la cantidad de energía que se transporta desde el origen $i$ al destino $j$, y $Y_{ij}$ la cantidad de energía que se transporta desde el nodo intermediario $i$ al destino $j$. Los índices $i$ y $j$ varían de 1 a 4.  $c_{ij}$ representa el costo de transportar una unidad de producto desde el origen $i$ hasta el destino $j$ o desde el nodo intermediario $i$ hasta el destino $j$. En otras palabras, $c_{ij}$ es el costo asociado a cada ruta de transporte entre el origen y los destinos, y entre los nodos intermediarios y los destinos; y $c_i$ es el costo de transportar una unidad de producto desde el origen $i$ hasta el destino $j$ o desde el nodo intermediario $i$ hasta el destino $j$.\n",
    "\n",
    "La cantidad de minimizar siempre es el costo total de transporte \n",
    "$$\n",
    "min Z = c_{11} X_{11} + c_{12} X_{12} + c_{13} X_{13} + c_{14} X_{14} + c_{21} Y_{21}+ c_{22} Y_{22} + c_{23} Y_{23} + c_{24} Y_{24} + \\\\ c_{31} Y_{31} + c_{32} Y_{32} + c_{33} Y_{33} + c_{34} Y_{34} + c_{41} Y_{41} + c_{42} Y_{42}+ c_{43} Y_{43} + c_{44} Y_{44}\n",
    "$$"
   ]
  },
  {
   "cell_type": "markdown",
   "metadata": {},
   "source": [
    "Donde se tiene que deben haber restricciones en la oferta, la demanda, la capacidad de los nodos intermediarios y deben ser positivos, esto es:\n",
    "\n",
    "1. Restricción en la oferta: la cantidad total de producto transportado desde el origen no puede exceder la oferta disponible en el origen, esto es:\n",
    "$$\n",
    "X_{11} + X_{12} + X_{13}+ X_{14} \\leq D\n",
    "$$\n",
    "2. Restriccion en la demanda: la cantidad de producto transportada a cada destino debe satisfacer su demanda:\n",
    "\n",
    "\\begin{gather}\n",
    "X_{11} + Y_{21} + Y_{31} + Y_{41} = D_1  \\\\\n",
    "X_{12} + Y_{22} + Y_{32} + Y_{42} = D_2  \\\\\n",
    "X_{13} + Y_{23} + Y_{33} + Y_{43} = D_3  \\\\\n",
    "X_{14} + Y_{24} + Y_{34} + Y_{44} = D_4  \\\\\n",
    "\\end{gather}\n",
    "3. Restricción en la capacidad de los nodos intermedios:  la cantidad de producto que se transporta a través de cada nodo no puede exceder su capacidad de transporte:\n",
    "\n",
    "\\begin{gather}\n",
    "X_{11} + X_{12} + X_{13} + X_{14} \\leq C_1\\\\\n",
    "Y_{21} + Y_{22} + Y_{23} + Y_{24} \\leq C_2\\\\\n",
    "Y_{31} + Y_{32} + Y_{33} + Y_{34} \\leq C_3\\\\\n",
    "\\end{gather}\n",
    "4. Restricción de no negatividad: la cantidad de producto transportada no puede ser negativa:\n",
    "\\begin{gather}\n",
    "X_{ij} \\geq 0 \\\\\n",
    "Y_{ij} \\geq 0\n",
    "\\end{gather}\n",
    "\n",
    "Donde $D$ es la oferta disponible en el origen, de $D_1$ a $D_4$ son las demandas de los destinos, de $C_1$ a $C_3$ son las capacidades de los nodos intermediarios."
   ]
  },
  {
   "cell_type": "markdown",
   "metadata": {},
   "source": [
    "b. Para resolver este problema, se consideran los siguientes pasos:\n",
    "1. Importar los modulos y librerías necesarias.\n",
    "2. Crear el modelo.\n",
    "3. Definir el conjunto de parámetros\n",
    "4. Definir las variables de decisión.\n",
    "5. Definir la función objetivo.\n",
    "6. Añadir las restricciones al problema\n",
    "7. Solucionar el modelo\n",
    "8. Mostras la solución al modelo."
   ]
  },
  {
   "cell_type": "code",
   "execution_count": 1,
   "metadata": {},
   "outputs": [],
   "source": [
    "from docplex.mp.model import Model"
   ]
  },
  {
   "cell_type": "code",
   "execution_count": 2,
   "metadata": {},
   "outputs": [],
   "source": [
    "modelo = Model(name='Distribucion_energia')"
   ]
  },
  {
   "cell_type": "code",
   "execution_count": 5,
   "metadata": {},
   "outputs": [
    {
     "name": "stdout",
     "output_type": "stream",
     "text": [
      "Warning: Duplicate variable name: trans_1_5 already used for docplex.mp.Var(type=C,name='trans_1_5')\n",
      "Warning: Duplicate variable name: trans_1_6 already used for docplex.mp.Var(type=C,name='trans_1_6')\n",
      "Warning: Duplicate variable name: trans_1_7 already used for docplex.mp.Var(type=C,name='trans_1_7')\n",
      "Warning: Duplicate variable name: trans_2_5 already used for docplex.mp.Var(type=C,name='trans_2_5')\n",
      "Warning: Duplicate variable name: trans_2_6 already used for docplex.mp.Var(type=C,name='trans_2_6')\n",
      "Warning: Duplicate variable name: trans_2_7 already used for docplex.mp.Var(type=C,name='trans_2_7')\n",
      "Warning: Duplicate variable name: trans_3_5 already used for docplex.mp.Var(type=C,name='trans_3_5')\n",
      "Warning: Duplicate variable name: trans_3_6 already used for docplex.mp.Var(type=C,name='trans_3_6')\n",
      "Warning: Duplicate variable name: trans_3_7 already used for docplex.mp.Var(type=C,name='trans_3_7')\n",
      "Warning: Duplicate variable name: trans_4_5 already used for docplex.mp.Var(type=C,name='trans_4_5')\n",
      "Warning: Duplicate variable name: trans_4_6 already used for docplex.mp.Var(type=C,name='trans_4_6')\n",
      "Warning: Duplicate variable name: trans_4_7 already used for docplex.mp.Var(type=C,name='trans_4_7')\n",
      "Warning: Duplicate variable name: trans2_5_8 already used for docplex.mp.Var(type=C,name='trans2_5_8')\n",
      "Warning: Duplicate variable name: trans2_5_9 already used for docplex.mp.Var(type=C,name='trans2_5_9')\n",
      "Warning: Duplicate variable name: trans2_5_10 already used for docplex.mp.Var(type=C,name='trans2_5_10')\n",
      "Warning: Duplicate variable name: trans2_5_11 already used for docplex.mp.Var(type=C,name='trans2_5_11')\n",
      "Warning: Duplicate variable name: trans2_6_8 already used for docplex.mp.Var(type=C,name='trans2_6_8')\n",
      "Warning: Duplicate variable name: trans2_6_9 already used for docplex.mp.Var(type=C,name='trans2_6_9')\n",
      "Warning: Duplicate variable name: trans2_6_10 already used for docplex.mp.Var(type=C,name='trans2_6_10')\n",
      "Warning: Duplicate variable name: trans2_6_11 already used for docplex.mp.Var(type=C,name='trans2_6_11')\n",
      "Warning: Duplicate variable name: trans2_7_8 already used for docplex.mp.Var(type=C,name='trans2_7_8')\n",
      "Warning: Duplicate variable name: trans2_7_9 already used for docplex.mp.Var(type=C,name='trans2_7_9')\n",
      "Warning: Duplicate variable name: trans2_7_10 already used for docplex.mp.Var(type=C,name='trans2_7_10')\n",
      "Warning: Duplicate variable name: trans2_7_11 already used for docplex.mp.Var(type=C,name='trans2_7_11')\n"
     ]
    }
   ],
   "source": [
    "origen = [1,2,3,4] # Cuatro orígenes, en este caso son las plantas de energía\n",
    "nodos_intermedios = [5,6,7] # Tres subestaciones \n",
    "destino = [8,9,10,11] # Cuatro ciudades que necesitan ser alimentadas\n",
    "\n",
    "# Matriz de la capacidad de transporte de cada uno de los nodos:\n",
    "trans_capacity = {(1, 5): 100, (1, 6): 150, (1, 7): 200, (2, 5): 200, (2, 6): 250, (2, 7): 200,\n",
    "                  (3, 5): 300, (3, 6): 200, (3, 7): 200, (4, 5): 150, (4, 6): 400, (4, 7): 200,\n",
    "                  (5, 8): 100, (5, 9): 200, (5, 10):250, (5,11): 500, (6, 8): 150, (6, 9): 250,\n",
    "                  (6, 10):200, (6, 11):200, (7, 8): 200, (7, 9): 300, (7, 10):130, (7, 11):200}\n",
    "# Matriz de costo del transporte \n",
    "trans_cost = {(1, 5): 5, (1, 6): 2, (1, 7): 7 , (2, 5):3, (2, 6): 6, (2, 7): 6,\n",
    "              (3, 5): 6, (3, 6): 1, (3, 7): 2, (4, 5): 4, (4, 6): 3, (4, 7): 6,\n",
    "              (5, 8): 5, (5, 9): 6, (5, 10):8, (5,11): 5, (6, 8): 6, (6, 9): 5,\n",
    "              (6, 10):5, (6, 11):2, (7, 8): 4, (7, 9): 3, (7, 10):3, (7, 11):9}\n",
    "\n",
    "\n",
    "city_needs = {8: 90, 9: 150, 10:110, 11: 70}\n",
    "# variables de decisión:\n",
    "\n",
    "trans_vars  = { (i,j): modelo.continuous_var(lb=0, name=f'trans_{i}_{j}')\n",
    "               for i in origen for j in nodos_intermedios   \n",
    "}\n",
    "trans_vars2 = { (i,j): modelo.continuous_var(lb=0, name=f'trans2_{i}_{j}')\n",
    "               for i in nodos_intermedios for j in destino\n",
    "}\n",
    "# Funcion objetivo\n",
    "modelo.minimize(modelo.sum(trans_cost[i, j] * trans_vars[i, j] for i in origen for j in nodos_intermedios) +\n",
    "               modelo.sum(trans_cost[i, j] * trans_vars2[i, j] for i in nodos_intermedios for j in destino))\n"
   ]
  },
  {
   "cell_type": "code",
   "execution_count": 6,
   "metadata": {},
   "outputs": [],
   "source": [
    "# Define la energía que cada ciudad necesita\n",
    "city_needs = {8: 300, 9: 200, 10: 400, 11: 350}\n",
    "\n",
    "# Restricción: La cantidad de energía enviada a cada ciudad debe ser igual o mayor a la que necesita. \n",
    "for k in destino:\n",
    "    modelo.add_constraint(modelo.sum(trans_vars2[j, k] for j in nodos_intermedios) >= city_needs[k])\n",
    "\n",
    "# Restricción: La cantidad de energía enviada desde cada planta de energía y subestación no puede exceder su capacidad\n",
    "\n",
    "for i in origen:\n",
    "    for j in nodos_intermedios:\n",
    "        modelo.add_constraint(trans_vars[i, j] <= trans_capacity[(i, j)])\n",
    "for i in nodos_intermedios:\n",
    "    for j in destino:\n",
    "        modelo.add_constraint(trans_vars2[i, j] <= trans_capacity[(i, j)])\n",
    "\n",
    "# Restricción: La cantidad total de energía enviar desde cada planta de energía y subestación debe ser igual a la cantidad\n",
    "#             total de energía recibida por cada ciudad\n",
    "for k in destino:\n",
    "    modelo.add_constraint(modelo.sum(trans_vars2[j, k] for j in nodos_intermedios) ==\n",
    "                         modelo.sum(trans_vars[i, j] for i in origen for j in nodos_intermedios if (i, j) in trans_capacity))"
   ]
  },
  {
   "cell_type": "code",
   "execution_count": 10,
   "metadata": {},
   "outputs": [
    {
     "name": "stdout",
     "output_type": "stream",
     "text": [
      "(1, 5): 0\n",
      "(1, 6): 150.0\n",
      "(1, 7): 0\n",
      "(2, 5): 0\n",
      "(2, 6): 0\n",
      "(2, 7): 0\n",
      "(3, 5): 0\n",
      "(3, 6): 200.0\n",
      "(3, 7): 50.0\n",
      "(4, 5): 0\n",
      "(4, 6): 0\n",
      "(4, 7): 0\n",
      "(5, 8): 100.0\n",
      "(5, 9): 0\n",
      "(5, 10): 70.0\n",
      "(5, 11): 200.0\n",
      "(6, 8): 100.0\n",
      "(6, 9): 100.0\n",
      "(6, 10): 200.0\n",
      "(6, 11): 200.0\n",
      "(7, 8): 200.0\n",
      "(7, 9): 300.0\n",
      "(7, 10): 130.0\n",
      "(7, 11): 0\n"
     ]
    }
   ],
   "source": [
    "#Soluciones el modelo \n",
    "solucion = modelo.solve()\n",
    "for var in trans_vars:\n",
    "    print(f'{var}: {trans_vars[var].solution_value}')\n",
    "    \n",
    "for var in trans_vars2:\n",
    "    print(f'{var}: {trans_vars2[var].solution_value}')\n"
   ]
  },
  {
   "cell_type": "markdown",
   "metadata": {},
   "source": [
    "c. Realice una gráfica inicial del problema con las ubicaciones de las ciudades, de las subestaciones y de las hidroeléctricas con distinto marcador y color, y una gráfica de la solución del problema mostrando las rutas asignadas"
   ]
  },
  {
   "cell_type": "code",
   "execution_count": 21,
   "metadata": {},
   "outputs": [
    {
     "data": {
      "image/png": "[encoded data removed]",
      "text/plain": [
       "<Figure size 576x576 with 1 Axes>"
      ]
     },
     "metadata": {
      "needs_background": "light"
     },
     "output_type": "display_data"
    }
   ],
   "source": [
    "import matplotlib.pyplot as plt\n",
    "\n",
    "# Coordinates of the locations\n",
    "coords = {1: (0, 0), 2: (0, 5), 3: (0, 10), 4: (0, 15), 5: (5, 2.5), 6: (5, 7.5), 7: (5, 12.5), 8: (10, 3.75),\n",
    "          9: (10, 8.75), 10: (10, 13.75), 11: (10, 18.75)}\n",
    "\n",
    "# Plot the locations\n",
    "plt.figure(figsize=(8, 8))\n",
    "for i, loc in coords.items():\n",
    "    if i in [1, 2, 3, 4]:\n",
    "        plt.plot(loc[0], loc[1], 'o', markersize=10, label=f'Planta {i}')\n",
    "    elif i in [5, 6, 7]:\n",
    "        plt.plot(loc[0], loc[1], '^', markersize=10, label=f'Subestación {i}')\n",
    "    else:\n",
    "        plt.plot(loc[0], loc[1], 's', markersize=10, label=f'Ciudad {i}')\n",
    "plt.legend()\n",
    "\n",
    "# Plot the optimal routes\n",
    "for i, j in trans_vars:\n",
    "    if trans_vars[i, j].solution_value > 0:\n",
    "        plt.plot([coords[i][0], coords[j][0]], [coords[i][1], coords[j][1]], 'k--')\n",
    "for i, j in trans_vars2:\n",
    "    if trans_vars2[i, j].solution_value > 0:\n",
    "        plt.plot([coords[i][0], coords[j][0]], [coords[i][1], coords[j][1]], 'k--')\n",
    "\n",
    "plt.show()\n"
   ]
  },
  {
   "cell_type": "markdown",
   "metadata": {},
   "source": [
    "d) Realice un resumen en una tabla de datos por medio de código Python (usar la librería pandas), dónde se pueda ver las cantidades que se distribuirán desde cada planta y cada CEDI. En una celda de texto realice un análisis de los resultados y al menos dos conclusiones referentes al uso del método, y una conclusión de posibles trabajos complementarios que usted considere se puedan desarrollar posteriormente para mejorar el trabajo o para hacerlo más aplicable o cercano a la realidad."
   ]
  },
  {
   "cell_type": "code",
   "execution_count": 20,
   "metadata": {},
   "outputs": [
    {
     "name": "stdout",
     "output_type": "stream",
     "text": [
      "   Planta fuente  Destino  Energia\n",
      "0            1.0      6.0    150.0\n",
      "1            3.0      6.0    200.0\n",
      "2            3.0      7.0     50.0\n"
     ]
    }
   ],
   "source": [
    "import pandas as pd\n",
    "\n",
    "# Extract solution information\n",
    "total_cost = solucion.get_objective_value()\n",
    "transport_df = pd.DataFrame.from_dict(trans_vars, orient='index', columns=['Variable'])\n",
    "transport_df['Solution'] = transport_df['Variable'].apply(lambda x: x.solution_value)\n",
    "transport_df = transport_df[transport_df['Solution'] > 0]\n",
    "\n",
    "# Create summary table\n",
    "summary_table = pd.DataFrame(columns=['Planta fuente', 'Destino', 'Energia'])\n",
    "for index, row in transport_df.iterrows():\n",
    "    source = index[0]\n",
    "    destination = index[1]\n",
    "    energy = row['Solution']\n",
    "    summary_table = summary_table.append({'Planta fuente': source, 'Destino': destination, 'Energia': energy}, ignore_index=True)\n",
    "\n",
    "# Print summary table\n",
    "print(summary_table)\n"
   ]
  },
  {
   "cell_type": "markdown",
   "metadata": {},
   "source": [
    "### Conclusiones:\n",
    "\n",
    "1. Este es un problema común en cualquier empresa, la idea de minimizar costo siempre está presente en cualquier modelo de negocio, sea energético de cualquier otra índole, dando como aplicabilidad un sin fin de situaciones.\n",
    "2. Al considerar una mejor podría ser considerar posiblemente más ciudades, con mayores plantas, aquellas personas que tienen hidroeléctricas, o energía renovable por medio de paneles solares, con el fin de mejorar la red de distribución."
   ]
  },
  {
   "cell_type": "code",
   "execution_count": null,
   "metadata": {},
   "outputs": [],
   "source": []
  }
 ],
 "metadata": {
  "kernelspec": {
   "display_name": "Python 3",
   "language": "python",
   "name": "python3"
  },
  "language_info": {
   "codemirror_mode": {
    "name": "ipython",
    "version": 3
   },
   "file_extension": ".py",
   "mimetype": "text/x-python",
   "name": "python",
   "nbconvert_exporter": "python",
   "pygments_lexer": "ipython3",
   "version": "3.7.4"
  }
 },
 "nbformat": 4,
 "nbformat_minor": 2
}
