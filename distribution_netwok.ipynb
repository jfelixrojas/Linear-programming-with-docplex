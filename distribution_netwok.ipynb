{
 "cells": [
  {
   "cell_type": "markdown",
   "metadata": {
    "id": "LrGF2U7uR2Q6"
   },
   "source": [
    "## Network distribution\n"
   ]
  },
  {
   "cell_type": "markdown",
   "metadata": {
    "id": "M_KzBchjR2Q9"
   },
   "source": [
    "* Define the linear model with mathematical notation, write it with math formulas \n"
   ]
  },
  {
   "cell_type": "markdown",
   "metadata": {
    "id": "8HJTru9-R2Q9"
   },
   "source": [
    "This is a network distribution with intermediates nodes, the origin nodes are four and named by 1,2,3,4, the three intermediates nodes are named by 5,6,7, the four destinations nodes are named 8, 9, 10, 11. \n",
    "\n",
    "\n",
    "| Destinations | Requirements |\n",
    "| --- | --- |\n",
    "| Node 8 | 90 |\n",
    "| Node 9 | 150 | \n",
    "| Node 10| 110 | \n",
    "| Node 11 | 70 |\n",
    "\n",
    "\n",
    "The origin nodes:\n",
    "\n",
    "|  Origin | Capacity |\n",
    "| --- | --- |\n",
    "| Node 1  | 150 |\n",
    "| Node 2  | 115 |\n",
    "| Node 3  | 110 |\n",
    "| Node 4  | 65 |\n",
    "\n",
    "\n",
    "Each intermediate nodes have is own capacity\n",
    "\n",
    "| Intermediate nodes   | Capacity |\n",
    "| --- | --- |\n",
    "| Node 5  | 250 |\n",
    "| Node 6 | 120 |\n",
    "| Node 7 | 200 |\n"
   ]
  },
  {
   "cell_type": "markdown",
   "metadata": {
    "id": "C4W9kz60R2Q9"
   },
   "source": [
    "Let be $X_{ij}$ the amount of the product you want to transport from the origin $i$ towars destination $j$ in this case, the intermediate nodes and let be $Y_{ij}$ the amount of the product you want to transport from the intermediate nodes $i$ to the final destination $j$, all the index must be 1, 2, 3, 4. Let be $c_{ij}$ the cost for transport the product from the node $i$ to the node $j$ or from the intermediate node $i$ to the destinatio $j$. $c_{ij}$ is the cost associate to the transport path between the origin to destination. \n",
    " \n",
    "Always want to minimize the cost of transporting the product:\n",
    "\n",
    "$$\n",
    "min Z = c_{11} X_{11} + c_{12} X_{12} + c_{13} X_{13} + c_{14} X_{14} + c_{21} Y_{21}+ c_{22} Y_{22} + c_{23} Y_{23} + c_{24} Y_{24} + \\\\ c_{31} Y_{31} + c_{32} Y_{32} + c_{33} Y_{33} + c_{34} Y_{34} + c_{41} Y_{41} + c_{42} Y_{42}+ c_{43} Y_{43} + c_{44} Y_{44}\n",
    "$$"
   ]
  },
  {
   "cell_type": "markdown",
   "metadata": {
    "id": "j2v_Y0SFR2Q-"
   },
   "source": [
    "This problem must be constrain in the offer, demand, the capacity of the intermediate nodes y must be positives values all what we got about this variables. This means:\n",
    "1. Constrain in the offer: the total amount of the product transported from the origin can't exceed the available offer in the origin, this is: \n",
    "\n",
    "$$\n",
    "X_{11} + X_{12} + X_{13}+ X_{14} \\leq D\n",
    "$$\n",
    "2. Constrain the demand: the amount of product transported to each destination must satisfied their demand:\n",
    "\n",
    "\\begin{gather}\n",
    "X_{11} + Y_{21} + Y_{31} + Y_{41} = D_1  \\\\\n",
    "X_{12} + Y_{22} + Y_{32} + Y_{42} = D_2  \\\\\n",
    "X_{13} + Y_{23} + Y_{33} + Y_{43} = D_3  \\\\\n",
    "X_{14} + Y_{24} + Y_{34} + Y_{44} = D_4  \\\\\n",
    "\\end{gather}\n",
    "3. Intermediate nodes constrain: the amount of the product transported through each nodes can't exceed their transport capacity:\n",
    "\n",
    "\\begin{gather}\n",
    "X_{11} + X_{12} + X_{13} + X_{14} \\leq C_1\\\\\n",
    "Y_{21} + Y_{22} + Y_{23} + Y_{24} \\leq C_2\\\\\n",
    "Y_{31} + Y_{32} + Y_{33} + Y_{34} \\leq C_3\\\\\n",
    "\\end{gather}\n",
    "4. Non-negative constrain: the amount of the product transported must be positive:\n",
    "\\begin{gather}\n",
    "X_{ij} \\geq 0 \\\\\n",
    "Y_{ij} \\geq 0\n",
    "\\end{gather}\n",
    "\n",
    "$D$ is the available offer in the origin, from $D_1$ to $D_4$ are the destination demands, from $C_1$ to  $C_3$ are the intermediates nodes capacity"
   ]
  },
  {
   "cell_type": "markdown",
   "metadata": {
    "id": "5KfhMg-vR2Q-"
   },
   "source": [
    "* To solve this network problem, we need to follow the next steps:\n",
    "\n",
    "    1. Import the libraries or modules we need.\n",
    "    2. Create the model.\n",
    "    3. Define the parameters of the problem.\n",
    "    4. Define the decision variables.\n",
    "    5. Define the objective variable ($Z$).\n",
    "    6. Add the constrains\n",
    "    7. Solve the model.\n",
    "    8. Show the obtained solution.\n",
    "    \n",
    "I'll go use docplex library designed by IBM."
   ]
  },
  {
   "cell_type": "code",
   "execution_count": 1,
   "metadata": {
    "id": "fsJr654sR2Q_"
   },
   "outputs": [],
   "source": [
    "# 1st step: import librarys or modules\n",
    "from docplex.mp.model import Model "
   ]
  },
  {
   "cell_type": "code",
   "execution_count": 2,
   "metadata": {
    "id": "cLfaqP3iR2Q_"
   },
   "outputs": [],
   "source": [
    "# 2nd Step: create the model to solve\n",
    "model = Model(name='Network_distribution') # Create a model"
   ]
  },
  {
   "cell_type": "code",
   "execution_count": 3,
   "metadata": {
    "id": "rG2zY_hMR2RA"
   },
   "outputs": [],
   "source": [
    "# 3rd Step: define the parameters\n",
    "origin = [1,2,3,4] # Origin nodes\n",
    "intermediate_nodes = [5,6,7] # Intermediate nodes\n",
    "destination = [8,9,10,11] # destination nodes\n",
    "\n",
    "# All nodes capacity: \n",
    "trans_capacity = {(1, 5): 100, (1, 6): 150, (1, 7): 200, (2, 5): 200, (2, 6): 250, (2, 7): 200,\n",
    "                  (3, 5): 300, (3, 6): 200, (3, 7): 200, (4, 5): 150, (4, 6): 400, (4, 7): 200,\n",
    "                  (5, 8): 100, (5, 9): 200, (5, 10):250, (5,11): 500, (6, 8): 150, (6, 9): 250,\n",
    "                  (6, 10):200, (6, 11):200, (7, 8): 200, (7, 9): 300, (7, 10):130, (7, 11):200}\n",
    "# Cost transporting \n",
    "trans_cost = {(1, 5): 5, (1, 6): 2, (1, 7): 7 , (2, 5):3, (2, 6): 6, (2, 7): 6,\n",
    "              (3, 5): 6, (3, 6): 1, (3, 7): 2, (4, 5): 4, (4, 6): 3, (4, 7): 6,\n",
    "              (5, 8): 5, (5, 9): 6, (5, 10):8, (5,11): 5, (6, 8): 6, (6, 9): 5,\n",
    "              (6, 10):5, (6, 11):2, (7, 8): 4, (7, 9): 3, (7, 10):3, (7, 11):9}\n",
    "#Destination needs\n",
    "destination_needs = {8: 90, 9: 150, 10:110, 11: 70}"
   ]
  },
  {
   "cell_type": "code",
   "execution_count": 4,
   "metadata": {
    "id": "stFFZpa7R2RA",
    "outputId": "9a6d317f-498b-49ca-8bb5-f0dc3c00d83d"
   },
   "outputs": [],
   "source": [
    "# 4th step: Decision variables\n",
    "\n",
    "# Variables from origin to intermediate nodes\n",
    "trans_vars  = { (i,j): model.continuous_var(lb=0, name=f'trans_{i}_{j}')\n",
    "               for i in origin for j in intermediate_nodes\n",
    "}\n",
    "# Variables from intermediate nodes to destination\n",
    "trans_vars2 = { (i,j): model.continuous_var(lb=0, name=f'trans2_{i}_{j}')\n",
    "               for i in intermediate_nodes for j in destination\n",
    "}\n"
   ]
  },
  {
   "cell_type": "code",
   "execution_count": 5,
   "metadata": {
    "id": "o74aQK_DR2RB"
   },
   "outputs": [],
   "source": [
    "# 5th Objective function  \n",
    "\n",
    "model.minimize(model.sum(trans_cost[i, j] * trans_vars[i, j] for i in origin for j in intermediate_nodes) +\n",
    "               model.sum(trans_cost[i, j] * trans_vars2[i, j] for i in intermediate_nodes for j in destination))"
   ]
  },
  {
   "cell_type": "code",
   "execution_count": 6,
   "metadata": {
    "id": "pNM086-LR2RB"
   },
   "outputs": [],
   "source": [
    "# 6th add constrain:\n",
    "\n",
    "# Constrain: the amount of the product sent to each node must be greater or equal to needed:\n",
    "for k in destination:\n",
    "    model.add_constraint(model.sum(trans_vars2[j, k] for j in intermediate_nodes) >= destination_needs[k])\n",
    "\n",
    "\n",
    "# Constrain: the amount of the product sent from each origin and intermediate nodes cannot exceed their capacity:\n",
    "for i in origin:\n",
    "    for j in intermediate_nodes:\n",
    "        model.add_constraint(trans_vars[i, j] <= trans_capacity[(i, j)])\n",
    "for i in intermediate_nodes:\n",
    "    for j in destination:\n",
    "        model.add_constraint(trans_vars2[i, j] <= trans_capacity[(i, j)])\n",
    "\n",
    "# Constrain: the total amount of the product sent from each origin and each intermediate nodes must be equal to the total amount\n",
    "#            received by each destination node.\n",
    "\n",
    "for k in destination:\n",
    "    model.add_constraint(model.sum(trans_vars2[j, k] for j in intermediate_nodes) ==\n",
    "                         model.sum(trans_vars[i, j] for i in origin for j in intermediate_nodes if (i, j) in trans_capacity))"
   ]
  },
  {
   "cell_type": "code",
   "execution_count": 7,
   "metadata": {
    "id": "qdUD12vNR2RB",
    "outputId": "e667cc11-fe38-40b0-b379-b437a8f1b799"
   },
   "outputs": [
    {
     "name": "stdout",
     "output_type": "stream",
     "text": [
      "(1, 5): 0\n",
      "(1, 6): 0\n",
      "(1, 7): 0\n",
      "(2, 5): 0\n",
      "(2, 6): 0\n",
      "(2, 7): 0\n",
      "(3, 5): 0\n",
      "(3, 6): 150.0\n",
      "(3, 7): 0\n",
      "(4, 5): 0\n",
      "(4, 6): 0\n",
      "(4, 7): 0\n",
      "(5, 8): 0\n",
      "(5, 9): 0\n",
      "(5, 10): 0\n",
      "(5, 11): 0\n",
      "(6, 8): 0\n",
      "(6, 9): 0\n",
      "(6, 10): 20.0\n",
      "(6, 11): 150.0\n",
      "(7, 8): 150.0\n",
      "(7, 9): 150.0\n",
      "(7, 10): 130.0\n",
      "(7, 11): 0\n"
     ]
    }
   ],
   "source": [
    "# 7th Solve \n",
    "solution = model.solve()\n",
    "\n",
    "# 8th show the obtained solution: \n",
    "for var in trans_vars:\n",
    "    print(f'{var}: {trans_vars[var].solution_value}')\n",
    "    \n",
    "for var in trans_vars2:\n",
    "    print(f'{var}: {trans_vars2[var].solution_value}')\n"
   ]
  },
  {
   "cell_type": "markdown",
   "metadata": {
    "id": "LBme1N-VR2RB"
   },
   "source": [
    "c. Plotting the solution"
   ]
  },
  {
   "cell_type": "code",
   "execution_count": 8,
   "metadata": {
    "id": "-4jnIsLnR2RC",
    "outputId": "63da6866-127c-4d21-c68a-4156d40a8d11"
   },
   "outputs": [
    {
     "data": {
      "text/plain": [
       "<Figure size 800x800 with 1 Axes>"
      ]
     },
     "metadata": {},
     "output_type": "display_data"
    }
   ],
   "source": [
    "import matplotlib.pyplot as plt\n",
    "\n",
    "# Coordinates of the locations\n",
    "coords = {1: (0, 0), 2: (0, 5), 3: (0, 10), 4: (0, 15), 5: (5, 2.5), 6: (5, 7.5), 7: (5, 12.5), 8: (10, 3.75),\n",
    "          9: (10, 8.75), 10: (10, 13.75), 11: (10, 18.75)}\n",
    "\n",
    "# Plot the locations\n",
    "plt.figure(figsize=(8, 8))\n",
    "for i, loc in coords.items():\n",
    "    if i in [1, 2, 3, 4]:\n",
    "        plt.plot(loc[0], loc[1], 'o', markersize=10, label=f'Origin {i}')\n",
    "    elif i in [5, 6, 7]:\n",
    "        plt.plot(loc[0], loc[1], '^', markersize=10, label=f'Intermediate node {i}')\n",
    "    else:\n",
    "        plt.plot(loc[0], loc[1], 's', markersize=10, label=f'Destination {i}')\n",
    "plt.legend()\n",
    "\n",
    "# Plot the optimal routes\n",
    "for i, j in trans_vars:\n",
    "    if trans_vars[i, j].solution_value > 0:\n",
    "        plt.plot([coords[i][0], coords[j][0]], [coords[i][1], coords[j][1]], 'k--')\n",
    "for i, j in trans_vars2:\n",
    "    if trans_vars2[i, j].solution_value > 0:\n",
    "        plt.plot([coords[i][0], coords[j][0]], [coords[i][1], coords[j][1]], 'k--')\n",
    "plt.xlabel('X')\n",
    "plt.ylabel('Y')\n",
    "plt.show()\n"
   ]
  },
  {
   "cell_type": "markdown",
   "metadata": {
    "id": "7s6y_ZLGR2RC"
   },
   "source": [
    "d) Organize the solution in a table:"
   ]
  },
  {
   "cell_type": "code",
   "execution_count": 9,
   "metadata": {
    "id": "iqEj_zQBR2RC",
    "outputId": "1ce1f405-25c6-4c1d-ff6b-3775a45601ec"
   },
   "outputs": [
    {
     "name": "stdout",
     "output_type": "stream",
     "text": [
      "   Origin  Destination  Amount\n",
      "0     3.0          6.0   150.0\n"
     ]
    }
   ],
   "source": [
    "import pandas as pd\n",
    "\n",
    "# Extract solution information\n",
    "total_cost = solution.get_objective_value()\n",
    "transport_df = pd.DataFrame.from_dict(trans_vars, orient='index', columns=['Variable'])\n",
    "transport_df['Solution'] = transport_df['Variable'].apply(lambda x: x.solution_value)\n",
    "transport_df = transport_df[transport_df['Solution'] > 0]\n",
    "\n",
    "# Create summary table\n",
    "summary_table = pd.DataFrame(columns=['Origin', 'Destination', 'Amount'])\n",
    "for index, row in transport_df.iterrows():\n",
    "    source = index[0]\n",
    "    destination = index[1]\n",
    "    amount = row['Solution']\n",
    "    summary_table = summary_table.append({'Origin': source, 'Destination': destination, 'Amount': amount}, ignore_index=True)\n",
    "\n",
    "# Print summary table\n",
    "print(summary_table)"
   ]
  },
  {
   "cell_type": "code",
   "execution_count": null,
   "metadata": {
    "id": "CtXkx2XyR2RC"
   },
   "outputs": [],
   "source": []
  },
  {
   "cell_type": "code",
   "execution_count": null,
   "metadata": {
    "id": "RJb7zChjR2RD"
   },
   "outputs": [],
   "source": []
  }
 ],
 "metadata": {
  "colab": {
   "provenance": []
  },
  "kernelspec": {
   "display_name": "Python 3",
   "language": "python",
   "name": "python3"
  },
  "language_info": {
   "codemirror_mode": {
    "name": "ipython",
    "version": 3
   },
   "file_extension": ".py",
   "mimetype": "text/x-python",
   "name": "python",
   "nbconvert_exporter": "python",
   "pygments_lexer": "ipython3",
   "version": "3.7.4"
  }
 },
 "nbformat": 4,
 "nbformat_minor": 1
}
